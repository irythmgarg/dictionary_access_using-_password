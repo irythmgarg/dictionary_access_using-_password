{
  "nbformat": 4,
  "nbformat_minor": 0,
  "metadata": {
    "colab": {
      "provenance": [],
      "authorship_tag": "ABX9TyMApmncuqrOeQxe4OZx7a0R",
      "include_colab_link": true
    },
    "kernelspec": {
      "name": "python3",
      "display_name": "Python 3"
    },
    "language_info": {
      "name": "python"
    }
  },
  "cells": [
    {
      "cell_type": "markdown",
      "metadata": {
        "id": "view-in-github",
        "colab_type": "text"
      },
      "source": [
        "<a href=\"https://colab.research.google.com/github/irythmgarg/dictionary_access_using-_password/blob/main/dictionary_access_using__password.ipynb\" target=\"_parent\"><img src=\"https://colab.research.google.com/assets/colab-badge.svg\" alt=\"Open In Colab\"/></a>"
      ]
    },
    {
      "cell_type": "code",
      "source": [
        "d1={\"harman\":\"Mansa\",\"Vishav\":\"Patiala\"};# creating a database\n",
        "def intro():# function called by main\n",
        "  print(\"welcome: please enter your password to continue \");\n",
        "  entry();\n",
        "def entry():# function to check pass is correct or not\n",
        "  password=input(\"enter the password\");\n",
        "  if(password==\"1234\"): # if correct then grant access\n",
        "    print(\"access granted\");\n",
        "    print(\"press 1 to clear data , 2 to insert, 3 to delete and 4 to update\");# operations on database\n",
        "    choice=input(\"enter your choice\");\n",
        "    if(choice=='1'):#operation to clear\n",
        "      d1.clear();\n",
        "      print(\"data cleared\");\n",
        "    elif(choice=='2'):#operation to insert\n",
        "        name=input(\"enter the name\");\n",
        "        address=input(\"enter the address\");\n",
        "        d1[name]=address;\n",
        "        print(\"data inserted\");\n",
        "    elif (choice=='3'):#operation to delete\n",
        "          name=input(\"enter the name\");\n",
        "          if(name in d1):\n",
        "            del d1[name];\n",
        "            print(\"data deleted\");\n",
        "    elif(choice=='4'):#operation to update\n",
        "            name=input(\"enter the name\");\n",
        "            address=input(\"enter the address\");\n",
        "            d1[name]=address;\n",
        "            print(\"data updated\");\n",
        "  else:\n",
        "     print(\"access denied\");\n",
        "def main():\n",
        "  intro()\n",
        "main()\n"
      ],
      "metadata": {
        "colab": {
          "base_uri": "https://localhost:8080/"
        },
        "id": "7xWFXaEiqIir",
        "outputId": "27448a61-21ff-4ff8-c0b6-c3945c505c06"
      },
      "execution_count": 20,
      "outputs": [
        {
          "output_type": "stream",
          "name": "stdout",
          "text": [
            "welcome: please enter your password to continue \n",
            "enter the password1234\n",
            "access granted\n",
            "press 1 to clear data , 2 to insert, 3 to delete and 4 to update\n",
            "enter your choice1\n",
            "data cleared\n"
          ]
        }
      ]
    }
  ]
}